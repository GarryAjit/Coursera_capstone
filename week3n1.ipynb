{
 "cells": [
  {
   "cell_type": "markdown",
   "metadata": {},
   "source": [
    "Importing libraries"
   ]
  },
  {
   "cell_type": "code",
   "execution_count": 1,
   "metadata": {},
   "outputs": [],
   "source": [
    "from bs4 import BeautifulSoup\n",
    "import requests"
   ]
  },
  {
   "cell_type": "markdown",
   "metadata": {},
   "source": [
    "Getting the table from the website"
   ]
  },
  {
   "cell_type": "code",
   "execution_count": 2,
   "metadata": {},
   "outputs": [],
   "source": [
    "source = requests.get('https://en.wikipedia.org/wiki/List_of_postal_codes_of_Canada:_M').text\n",
    "soup = BeautifulSoup(source,'lxml')"
   ]
  },
  {
   "cell_type": "markdown",
   "metadata": {},
   "source": [
    "Getting the headings of the table"
   ]
  },
  {
   "cell_type": "code",
   "execution_count": 3,
   "metadata": {},
   "outputs": [
    {
     "name": "stdout",
     "output_type": "stream",
     "text": [
      "['Postcode', 'Borough', 'Neighbourhood']\n"
     ]
    }
   ],
   "source": [
    "table = soup.find('table',class_ = 'wikitable sortable')\n",
    "head = []\n",
    "for heading in table.find_all('th'):\n",
    "    head.append(heading.text)\n",
    "head[2] = head[2].replace('\\n','')\n",
    "head[1] = head[1].replace('\\n','')\n",
    "print(head)"
   ]
  },
  {
   "cell_type": "markdown",
   "metadata": {},
   "source": [
    "Crearing a dataframe"
   ]
  },
  {
   "cell_type": "code",
   "execution_count": 4,
   "metadata": {},
   "outputs": [
    {
     "name": "stdout",
     "output_type": "stream",
     "text": [
      "Empty DataFrame\n",
      "Columns: [Postcode, Borough, Neighbourhood]\n",
      "Index: []\n"
     ]
    }
   ],
   "source": [
    "import pandas as pd\n",
    "df = pd.DataFrame(columns=head)\n",
    "print(df)"
   ]
  },
  {
   "cell_type": "markdown",
   "metadata": {},
   "source": [
    "Inserting values"
   ]
  },
  {
   "cell_type": "code",
   "execution_count": 5,
   "metadata": {},
   "outputs": [],
   "source": [
    "for row in table.find_all('tr'):\n",
    "    temp=[]\n",
    "    for data in row.find_all('td'):\n",
    "        temp.append(data.text)\n",
    "    if len(temp) > 0:\n",
    "        df = df.append({'Postcode':temp[0],'Borough':temp[1],'Neighbourhood':temp[2]},ignore_index=True)"
   ]
  },
  {
   "cell_type": "code",
   "execution_count": 6,
   "metadata": {},
   "outputs": [
    {
     "name": "stdout",
     "output_type": "stream",
     "text": [
      "  Postcode           Borough       Neighbourhood\n",
      "0      M1A      Not assigned      Not assigned\\n\n",
      "1      M2A      Not assigned      Not assigned\\n\n",
      "2      M3A        North York         Parkwoods\\n\n",
      "3      M4A        North York  Victoria Village\\n\n",
      "4      M5A  Downtown Toronto      Harbourfront\\n\n"
     ]
    }
   ],
   "source": [
    "print(df.head())"
   ]
  },
  {
   "cell_type": "markdown",
   "metadata": {},
   "source": [
    "Cleaning the data"
   ]
  },
  {
   "cell_type": "code",
   "execution_count": 7,
   "metadata": {},
   "outputs": [
    {
     "name": "stdout",
     "output_type": "stream",
     "text": [
      "  Postcode           Borough     Neighbourhood\n",
      "0      M1A      Not assigned      Not assigned\n",
      "1      M2A      Not assigned      Not assigned\n",
      "2      M3A        North York         Parkwoods\n",
      "3      M4A        North York  Victoria Village\n",
      "4      M5A  Downtown Toronto      Harbourfront\n"
     ]
    }
   ],
   "source": [
    "n = df['Neighbourhood'].values\n",
    "new=[]\n",
    "for i in n:\n",
    "    #print(i)\n",
    "    i = i.replace('\\n','')\n",
    "    new.append(i)\n",
    "#print(new)\n",
    "df['Neighbourhood'] = new\n",
    "#print(df.head())\n",
    "\n",
    "n = df['Borough'].values\n",
    "new=[]\n",
    "for i in n:\n",
    "    #print(i)\n",
    "    i = i.replace('\\n','')\n",
    "    new.append(i)\n",
    "#print(new)\n",
    "df['Borough'] = new\n",
    "print(df.head())"
   ]
  },
  {
   "cell_type": "markdown",
   "metadata": {},
   "source": [
    "Removing rows where Borough is not assigned"
   ]
  },
  {
   "cell_type": "code",
   "execution_count": 8,
   "metadata": {},
   "outputs": [
    {
     "name": "stdout",
     "output_type": "stream",
     "text": [
      "  Postcode           Borough     Neighbourhood\n",
      "2      M3A        North York         Parkwoods\n",
      "3      M4A        North York  Victoria Village\n",
      "4      M5A  Downtown Toronto      Harbourfront\n",
      "5      M5A  Downtown Toronto       Regent Park\n",
      "6      M6A        North York  Lawrence Heights\n"
     ]
    }
   ],
   "source": [
    "df = df[df['Borough']!='Not assigned']\n",
    "print(df.head())"
   ]
  },
  {
   "cell_type": "markdown",
   "metadata": {},
   "source": [
    "Grouping rows by Postcode"
   ]
  },
  {
   "cell_type": "code",
   "execution_count": 9,
   "metadata": {},
   "outputs": [
    {
     "name": "stdout",
     "output_type": "stream",
     "text": [
      "  Postcode      Borough                         Neighbourhood\n",
      "0      M1B  Scarborough                         Rouge,Malvern\n",
      "1      M1C  Scarborough  Highland Creek,Rouge Hill,Port Union\n",
      "2      M1E  Scarborough       Guildwood,Morningside,West Hill\n",
      "3      M1G  Scarborough                                Woburn\n",
      "4      M1H  Scarborough                             Cedarbrae\n"
     ]
    }
   ],
   "source": [
    "foo = lambda a: ','.join(a)\n",
    "df = df.groupby('Postcode',as_index=False).agg({'Borough':'first','Neighbourhood':foo}).reindex(columns=df.columns)\n",
    "print(df.head())"
   ]
  },
  {
   "cell_type": "code",
   "execution_count": 10,
   "metadata": {},
   "outputs": [
    {
     "name": "stdout",
     "output_type": "stream",
     "text": [
      "(103, 3)\n"
     ]
    }
   ],
   "source": [
    "print(df.shape)"
   ]
  },
  {
   "cell_type": "code",
   "execution_count": null,
   "metadata": {},
   "outputs": [],
   "source": []
  }
 ],
 "metadata": {
  "kernelspec": {
   "display_name": "Python 3",
   "language": "python",
   "name": "python3"
  },
  "language_info": {
   "codemirror_mode": {
    "name": "ipython",
    "version": 3
   },
   "file_extension": ".py",
   "mimetype": "text/x-python",
   "name": "python",
   "nbconvert_exporter": "python",
   "pygments_lexer": "ipython3",
   "version": "3.7.1"
  }
 },
 "nbformat": 4,
 "nbformat_minor": 2
}
